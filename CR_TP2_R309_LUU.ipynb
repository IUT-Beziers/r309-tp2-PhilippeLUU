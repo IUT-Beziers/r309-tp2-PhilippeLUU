{
 "cells": [
  {
   "cell_type": "markdown",
   "metadata": {},
   "source": [
    "# Exercice 1 Réalisation d’un outil pour dessiner des réseaux\n",
    "\n",
    "Vous devez réaliser un logiciel permettant de dessiner des architectures réseau de façon\n",
    "simple et élégante. \n",
    "Le cahier des charges imposé par le client indique que votre logiciel\n",
    "doit permettre de représenter :\n",
    "- des switchs\n",
    "- des clients (PC ou téléphone)\n",
    "- des routeurs\n",
    "\n",
    "Les différents éléments peuvent être présents de multiple fois dans l’interface. \n",
    "La création d’un nouvel item pourra se faire par un raccourci clavier ( C client, S switch, R routeur, par exemple ) ou par toolbar / menu, et il doit être possible de déplacer ou d’effacer les items à la souris.\n",
    "\n",
    "Un clic droit sur un item doit permettre d’en modifier les propriétés :\n",
    "- Nom\n",
    "- Icône\n",
    "\n",
    "Enfin, il doit être possible de dessiner des traits sur le schémas afin de représenter les liens réseau."
   ]
  },
  {
   "cell_type": "code",
   "execution_count": null,
   "metadata": {},
   "outputs": [],
   "source": [
    "import tkinter as tk\n",
    "from tkinter import simpledialog\n",
    "from PIL import Image, ImageTk\n",
    "\n",
    "class WishPacketTracer:\n",
    "    def __init__(self, root):\n",
    "        self.root = root\n",
    "        self.root.title(\"Wish Packet Tracer\")\n",
    "\n",
    "        # 1) \n",
    "        self.canvas = tk.Canvas(root, bg=\"ivory\", width=800, height=600)\n",
    "        self.canvas.pack(expand=tk.YES, fill=tk.BOTH)\n",
    "\n",
    "# 1) \n",
    "root = tk.Tk()\n",
    "app = WishPacketTracer(root)\n",
    "root.mainloop()"
   ]
  },
  {
   "cell_type": "markdown",
   "metadata": {},
   "source": [
    "J'ai dans mon premier commit, créer une classe qui permettra d'instancier les objets de l'application car il doivent être présents plusieurs fois en même temps dans la fenêtre.\n",
    "A la fin de mon programme, je crée une fenêtre qui s'appelle root et à laquelle je créer une instance de la classe \"WishPacketTracer\".\n",
    "Et donc le programme va créer un canvas basique de 800x600 qui va s'étendre càd prendre la place dans tout son espace (en l'occurence la fenêtre) et doit s'élargir horizontalement et verticalement à la fois.\n",
    "\n",
    "<img src=\"./img/i1.png\">"
   ]
  },
  {
   "cell_type": "markdown",
   "metadata": {},
   "source": [
    "Puis j'ai ajouté à mon code, une barre d'outils dans laquelle, j'ai au préalable chargé mes 3 images (pc,routeur et switch) grâce à PIL et je les redimensionne et je les ai rendues cliquable en les affichant en tant que Button dans ma barre d'outils. Mes 3 images vont alors s'afficher au clic dans le canvas."
   ]
  },
  {
   "cell_type": "markdown",
   "metadata": {},
   "source": [
    "# Exercice 2 Des traits bien droits !\n",
    "Faites en sorte que les lignes ne puissent être que horizontales ou verticales lorsque\n",
    "l’utilisateur maintient la touche CTRL enfoncée.\n"
   ]
  },
  {
   "cell_type": "markdown",
   "metadata": {},
   "source": [
    "# Exercice 3 Un client exigeant ...\n",
    "Le client, satisfait par votre travail précédant, demande à ce que vous alliez plus loin. Il\n",
    "souhaite maintenant que les items aient des ports sur lesquels votre souris sera aimantée\n",
    "lorsque vous dessinez des traits. Le nombre de ports des routeurs et des switchs sera\n",
    "paramétrable de 1 à 4. Les clients, eux, auront toujours un seul port"
   ]
  }
 ],
 "metadata": {
  "kernelspec": {
   "display_name": "Python 3",
   "language": "python",
   "name": "python3"
  },
  "language_info": {
   "codemirror_mode": {
    "name": "ipython",
    "version": 3
   },
   "file_extension": ".py",
   "mimetype": "text/x-python",
   "name": "python",
   "nbconvert_exporter": "python",
   "pygments_lexer": "ipython3",
   "version": "3.11.1"
  }
 },
 "nbformat": 4,
 "nbformat_minor": 2
}
